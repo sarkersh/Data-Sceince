{
 "cells": [
  {
   "cell_type": "code",
   "execution_count": 9,
   "metadata": {},
   "outputs": [],
   "source": [
    "import pandas as pd\n",
    "import numpy as np\n",
    "import matplotlib.pyplot as plt\n",
    "import seaborn as sns"
   ]
  },
  {
   "cell_type": "markdown",
   "metadata": {},
   "source": [
    "Now, Firstly we will Load the Dataset"
   ]
  },
  {
   "cell_type": "code",
   "execution_count": 3,
   "metadata": {},
   "outputs": [
    {
     "data": {
      "text/html": [
       "<div>\n",
       "<style scoped>\n",
       "    .dataframe tbody tr th:only-of-type {\n",
       "        vertical-align: middle;\n",
       "    }\n",
       "\n",
       "    .dataframe tbody tr th {\n",
       "        vertical-align: top;\n",
       "    }\n",
       "\n",
       "    .dataframe thead th {\n",
       "        text-align: right;\n",
       "    }\n",
       "</style>\n",
       "<table border=\"1\" class=\"dataframe\">\n",
       "  <thead>\n",
       "    <tr style=\"text-align: right;\">\n",
       "      <th></th>\n",
       "      <th>Patient</th>\n",
       "      <th>smoke</th>\n",
       "      <th>FVC</th>\n",
       "      <th>FEC1</th>\n",
       "      <th>PEFR</th>\n",
       "      <th>O2</th>\n",
       "      <th>ABG-P-O2</th>\n",
       "      <th>ABG-P-CO2</th>\n",
       "      <th>ABG-pH Level</th>\n",
       "      <th>Scan</th>\n",
       "      <th>Asthama</th>\n",
       "      <th>Other diseaes</th>\n",
       "      <th>AGE</th>\n",
       "      <th>Risk</th>\n",
       "    </tr>\n",
       "  </thead>\n",
       "  <tbody>\n",
       "    <tr>\n",
       "      <th>0</th>\n",
       "      <td>Patient-1</td>\n",
       "      <td>T</td>\n",
       "      <td>2.85</td>\n",
       "      <td>2.16</td>\n",
       "      <td>F</td>\n",
       "      <td>F</td>\n",
       "      <td>F</td>\n",
       "      <td>T</td>\n",
       "      <td>T</td>\n",
       "      <td>X-ray</td>\n",
       "      <td>F</td>\n",
       "      <td>F</td>\n",
       "      <td>60</td>\n",
       "      <td>F</td>\n",
       "    </tr>\n",
       "    <tr>\n",
       "      <th>1</th>\n",
       "      <td>Patient-2</td>\n",
       "      <td>F</td>\n",
       "      <td>3.40</td>\n",
       "      <td>1.88</td>\n",
       "      <td>F</td>\n",
       "      <td>F</td>\n",
       "      <td>F</td>\n",
       "      <td>F</td>\n",
       "      <td>F</td>\n",
       "      <td>MRI</td>\n",
       "      <td>T</td>\n",
       "      <td>F</td>\n",
       "      <td>51</td>\n",
       "      <td>F</td>\n",
       "    </tr>\n",
       "    <tr>\n",
       "      <th>2</th>\n",
       "      <td>Patient-3</td>\n",
       "      <td>F</td>\n",
       "      <td>2.76</td>\n",
       "      <td>2.08</td>\n",
       "      <td>F</td>\n",
       "      <td>F</td>\n",
       "      <td>F</td>\n",
       "      <td>T</td>\n",
       "      <td>F</td>\n",
       "      <td>X-ray</td>\n",
       "      <td>F</td>\n",
       "      <td>F</td>\n",
       "      <td>59</td>\n",
       "      <td>F</td>\n",
       "    </tr>\n",
       "    <tr>\n",
       "      <th>3</th>\n",
       "      <td>Patient-4</td>\n",
       "      <td>F</td>\n",
       "      <td>3.68</td>\n",
       "      <td>3.04</td>\n",
       "      <td>F</td>\n",
       "      <td>F</td>\n",
       "      <td>F</td>\n",
       "      <td>F</td>\n",
       "      <td>F</td>\n",
       "      <td>X-ray</td>\n",
       "      <td>F</td>\n",
       "      <td>F</td>\n",
       "      <td>54</td>\n",
       "      <td>F</td>\n",
       "    </tr>\n",
       "    <tr>\n",
       "      <th>4</th>\n",
       "      <td>Patient-5</td>\n",
       "      <td>F</td>\n",
       "      <td>2.44</td>\n",
       "      <td>0.96</td>\n",
       "      <td>F</td>\n",
       "      <td>T</td>\n",
       "      <td>F</td>\n",
       "      <td>T</td>\n",
       "      <td>T</td>\n",
       "      <td>X-ray</td>\n",
       "      <td>F</td>\n",
       "      <td>F</td>\n",
       "      <td>73</td>\n",
       "      <td>T</td>\n",
       "    </tr>\n",
       "  </tbody>\n",
       "</table>\n",
       "</div>"
      ],
      "text/plain": [
       "     Patient smoke   FVC  FEC1 PEFR O2 ABG-P-O2 ABG-P-CO2 ABG-pH Level   Scan  \\\n",
       "0  Patient-1     T  2.85  2.16    F  F        F         T            T  X-ray   \n",
       "1  Patient-2     F  3.40  1.88    F  F        F         F            F    MRI   \n",
       "2  Patient-3     F  2.76  2.08    F  F        F         T            F  X-ray   \n",
       "3  Patient-4     F  3.68  3.04    F  F        F         F            F  X-ray   \n",
       "4  Patient-5     F  2.44  0.96    F  T        F         T            T  X-ray   \n",
       "\n",
       "  Asthama Other diseaes  AGE Risk  \n",
       "0       F             F   60    F  \n",
       "1       T             F   51    F  \n",
       "2       F             F   59    F  \n",
       "3       F             F   54    F  \n",
       "4       F             F   73    T  "
      ]
     },
     "execution_count": 3,
     "metadata": {},
     "output_type": "execute_result"
    }
   ],
   "source": [
    "dataset = pd.read_excel(\"lung_disease.xlsx\")\n",
    "\n",
    "dataset.head()"
   ]
  },
  {
   "cell_type": "markdown",
   "metadata": {},
   "source": [
    "Now the most important thing is to know what each columns means"
   ]
  },
  {
   "cell_type": "code",
   "execution_count": 4,
   "metadata": {},
   "outputs": [
    {
     "name": "stdout",
     "output_type": "stream",
     "text": [
      "\n",
      "Description\n",
      "\n",
      "Patient: It represents the patient identifier or unique identifier for each patient. Smoke: It indicates whether the patient is a smoker (T for True) or a non-smoker (F for False).\n",
      "\n",
      "FVC: It stands for Forced Vital Capacity, which is a measure of the maximum amount of air a person can exhale forcefully after taking a deep breath.\n",
      "\n",
      "FEC1: It refers to Forced Expiratory Volume in 1 second, which measures the volume of air exhaled during the first second of a forced breath after a full inhalation.\n",
      "\n",
      "PEFR: It represents Peak Expiratory Flow Rate, which measures the maximum rate at which a person can exhale air forcefully.\n",
      "\n",
      "O2: It indicates the oxygen saturation level, which measures the percentage of hemoglobin in the blood that is carrying oxygen. If is less compared to the actual value (F for false) and vice versa\n",
      "\n",
      "ABG-P-O2: It stands for Arterial Blood Gas Partial Pressure of Oxygen, which measures the oxygen level in arterial blood.\n",
      "\n",
      "ABG-P-CO2: It refers to Arterial Blood Gas Partial Pressure of Carbon Dioxide, which measures the carbon dioxide level in arterial blood.\n",
      "\n",
      "ABG-pH Level: It represents the pH level of arterial blood, which indicates its acidity or alkalinity.\n",
      "\n",
      "Scan: It indicates the type of imaging scan performed (e.g., X-ray, MRI) to assess the patient's chest area.\n",
      "\n",
      "Asthma: It indicates whether the patient has asthma (T for True) or not (F for False).\n",
      "\n",
      "Other diseases: It represents the presence (T for True) or absence (F for False) of any other diseases or medical conditions.\n",
      "\n",
      "Age: It denotes the age of the patient.\n",
      "\n",
      "Risk: It indicates the risk of a specific outcome or event (F for False, T for True).\n"
     ]
    }
   ],
   "source": [
    "print(\"\"\"\n",
    "Description\n",
    "\\nPatient: It represents the patient identifier or unique identifier for each patient. Smoke: It indicates whether the patient is a smoker (T for True) or a non-smoker (F for False).\n",
    "\\nFVC: It stands for Forced Vital Capacity, which is a measure of the maximum amount of air a person can exhale forcefully after taking a deep breath.\n",
    "\\nFEC1: It refers to Forced Expiratory Volume in 1 second, which measures the volume of air exhaled during the first second of a forced breath after a full inhalation.\n",
    "\\nPEFR: It represents Peak Expiratory Flow Rate, which measures the maximum rate at which a person can exhale air forcefully.\n",
    "\\nO2: It indicates the oxygen saturation level, which measures the percentage of hemoglobin in the blood that is carrying oxygen. If is less compared to the actual value (F for false) and vice versa\n",
    "\\nABG-P-O2: It stands for Arterial Blood Gas Partial Pressure of Oxygen, which measures the oxygen level in arterial blood.\n",
    "\\nABG-P-CO2: It refers to Arterial Blood Gas Partial Pressure of Carbon Dioxide, which measures the carbon dioxide level in arterial blood.\n",
    "\\nABG-pH Level: It represents the pH level of arterial blood, which indicates its acidity or alkalinity.\n",
    "\\nScan: It indicates the type of imaging scan performed (e.g., X-ray, MRI) to assess the patient's chest area.\n",
    "\\nAsthma: It indicates whether the patient has asthma (T for True) or not (F for False).\n",
    "\\nOther diseases: It represents the presence (T for True) or absence (F for False) of any other diseases or medical conditions.\n",
    "\\nAge: It denotes the age of the patient.\n",
    "\\nRisk: It indicates the risk of a specific outcome or event (F for False, T for True).\"\"\")"
   ]
  },
  {
   "cell_type": "markdown",
   "metadata": {},
   "source": [
    "Now after getting the information regarding the dataset now we will perform the \n",
    "\n",
    "**Exploratory Data Analysis**"
   ]
  },
  {
   "cell_type": "code",
   "execution_count": 5,
   "metadata": {},
   "outputs": [
    {
     "name": "stdout",
     "output_type": "stream",
     "text": [
      "<class 'pandas.core.frame.DataFrame'>\n",
      "RangeIndex: 470 entries, 0 to 469\n",
      "Data columns (total 14 columns):\n",
      " #   Column         Non-Null Count  Dtype  \n",
      "---  ------         --------------  -----  \n",
      " 0   Patient        470 non-null    object \n",
      " 1   smoke          470 non-null    object \n",
      " 2   FVC            470 non-null    float64\n",
      " 3   FEC1           470 non-null    float64\n",
      " 4   PEFR           470 non-null    object \n",
      " 5   O2             470 non-null    object \n",
      " 6   ABG-P-O2       470 non-null    object \n",
      " 7   ABG-P-CO2      470 non-null    object \n",
      " 8   ABG-pH Level   470 non-null    object \n",
      " 9   Scan           470 non-null    object \n",
      " 10  Asthama        470 non-null    object \n",
      " 11  Other diseaes  470 non-null    object \n",
      " 12  AGE            470 non-null    int64  \n",
      " 13  Risk           470 non-null    object \n",
      "dtypes: float64(2), int64(1), object(11)\n",
      "memory usage: 51.5+ KB\n"
     ]
    }
   ],
   "source": [
    "# Checking the information \n",
    "\n",
    "dataset.info()"
   ]
  },
  {
   "cell_type": "code",
   "execution_count": 6,
   "metadata": {},
   "outputs": [
    {
     "data": {
      "text/plain": [
       "Patient          0\n",
       "smoke            0\n",
       "FVC              0\n",
       "FEC1             0\n",
       "PEFR             0\n",
       "O2               0\n",
       "ABG-P-O2         0\n",
       "ABG-P-CO2        0\n",
       "ABG-pH Level     0\n",
       "Scan             0\n",
       "Asthama          0\n",
       "Other diseaes    0\n",
       "AGE              0\n",
       "Risk             0\n",
       "dtype: int64"
      ]
     },
     "execution_count": 6,
     "metadata": {},
     "output_type": "execute_result"
    }
   ],
   "source": [
    "# Checking for Null Values \n",
    "\n",
    "dataset.isnull().sum()"
   ]
  },
  {
   "cell_type": "code",
   "execution_count": 7,
   "metadata": {},
   "outputs": [
    {
     "data": {
      "text/html": [
       "<div>\n",
       "<style scoped>\n",
       "    .dataframe tbody tr th:only-of-type {\n",
       "        vertical-align: middle;\n",
       "    }\n",
       "\n",
       "    .dataframe tbody tr th {\n",
       "        vertical-align: top;\n",
       "    }\n",
       "\n",
       "    .dataframe thead th {\n",
       "        text-align: right;\n",
       "    }\n",
       "</style>\n",
       "<table border=\"1\" class=\"dataframe\">\n",
       "  <thead>\n",
       "    <tr style=\"text-align: right;\">\n",
       "      <th></th>\n",
       "      <th>FVC</th>\n",
       "      <th>FEC1</th>\n",
       "      <th>AGE</th>\n",
       "    </tr>\n",
       "  </thead>\n",
       "  <tbody>\n",
       "    <tr>\n",
       "      <th>count</th>\n",
       "      <td>470.000000</td>\n",
       "      <td>470.000000</td>\n",
       "      <td>470.000000</td>\n",
       "    </tr>\n",
       "    <tr>\n",
       "      <th>mean</th>\n",
       "      <td>3.281574</td>\n",
       "      <td>4.568702</td>\n",
       "      <td>62.534043</td>\n",
       "    </tr>\n",
       "    <tr>\n",
       "      <th>std</th>\n",
       "      <td>0.871426</td>\n",
       "      <td>11.767857</td>\n",
       "      <td>8.706902</td>\n",
       "    </tr>\n",
       "    <tr>\n",
       "      <th>min</th>\n",
       "      <td>1.440000</td>\n",
       "      <td>0.960000</td>\n",
       "      <td>21.000000</td>\n",
       "    </tr>\n",
       "    <tr>\n",
       "      <th>25%</th>\n",
       "      <td>2.600000</td>\n",
       "      <td>1.960000</td>\n",
       "      <td>57.000000</td>\n",
       "    </tr>\n",
       "    <tr>\n",
       "      <th>50%</th>\n",
       "      <td>3.160000</td>\n",
       "      <td>2.400000</td>\n",
       "      <td>62.000000</td>\n",
       "    </tr>\n",
       "    <tr>\n",
       "      <th>75%</th>\n",
       "      <td>3.807500</td>\n",
       "      <td>3.080000</td>\n",
       "      <td>69.000000</td>\n",
       "    </tr>\n",
       "    <tr>\n",
       "      <th>max</th>\n",
       "      <td>6.300000</td>\n",
       "      <td>86.300000</td>\n",
       "      <td>87.000000</td>\n",
       "    </tr>\n",
       "  </tbody>\n",
       "</table>\n",
       "</div>"
      ],
      "text/plain": [
       "              FVC        FEC1         AGE\n",
       "count  470.000000  470.000000  470.000000\n",
       "mean     3.281574    4.568702   62.534043\n",
       "std      0.871426   11.767857    8.706902\n",
       "min      1.440000    0.960000   21.000000\n",
       "25%      2.600000    1.960000   57.000000\n",
       "50%      3.160000    2.400000   62.000000\n",
       "75%      3.807500    3.080000   69.000000\n",
       "max      6.300000   86.300000   87.000000"
      ]
     },
     "execution_count": 7,
     "metadata": {},
     "output_type": "execute_result"
    }
   ],
   "source": [
    "# descriptive stats\n",
    "dataset.describe()"
   ]
  },
  {
   "cell_type": "code",
   "execution_count": null,
   "metadata": {},
   "outputs": [],
   "source": [
    "# Now lets see how many have risk of Lungs Disease\n",
    "\n",
    "plt.figure(figsize=(15,8))\n",
    "plt.title(\"Risk Of Lungs Disease\")\n",
    "sns.countplot(dataset[\"Risk\"])\n"
   ]
  },
  {
   "cell_type": "code",
   "execution_count": null,
   "metadata": {},
   "outputs": [],
   "source": [
    "# Now Let us see which type of Scans are used \n",
    "\n",
    "\n",
    "plt.figure(figsize=(15,8))\n",
    "plt.title(\"Type of Scans used.\")\n",
    "sns.countplot(dataset[\"Scan\"])"
   ]
  },
  {
   "cell_type": "code",
   "execution_count": 10,
   "metadata": {},
   "outputs": [
    {
     "data": {
      "text/plain": [
       "[<matplotlib.lines.Line2D at 0x1d56c03a130>]"
      ]
     },
     "execution_count": 10,
     "metadata": {},
     "output_type": "execute_result"
    },
    {
     "data": {
      "image/png": "[encoded data removed]",
      "text/plain": [
       "<Figure size 1080x576 with 1 Axes>"
      ]
     },
     "metadata": {
      "needs_background": "light"
     },
     "output_type": "display_data"
    }
   ],
   "source": [
    "plt.figure(figsize=(15,8))\n",
    "plt.title(\"Average Age \")\n",
    "plt.plot(dataset[\"AGE\"])"
   ]
  },
  {
   "cell_type": "markdown",
   "metadata": {},
   "source": [
    "Now we will Analyze by Line firstly Lungs Diseasen affectee and then Not Effectee"
   ]
  },
  {
   "cell_type": "code",
   "execution_count": 11,
   "metadata": {},
   "outputs": [
    {
     "data": {
      "text/html": [
       "<div>\n",
       "<style scoped>\n",
       "    .dataframe tbody tr th:only-of-type {\n",
       "        vertical-align: middle;\n",
       "    }\n",
       "\n",
       "    .dataframe tbody tr th {\n",
       "        vertical-align: top;\n",
       "    }\n",
       "\n",
       "    .dataframe thead th {\n",
       "        text-align: right;\n",
       "    }\n",
       "</style>\n",
       "<table border=\"1\" class=\"dataframe\">\n",
       "  <thead>\n",
       "    <tr style=\"text-align: right;\">\n",
       "      <th></th>\n",
       "      <th>Patient</th>\n",
       "      <th>smoke</th>\n",
       "      <th>FVC</th>\n",
       "      <th>FEC1</th>\n",
       "      <th>PEFR</th>\n",
       "      <th>O2</th>\n",
       "      <th>ABG-P-O2</th>\n",
       "      <th>ABG-P-CO2</th>\n",
       "      <th>ABG-pH Level</th>\n",
       "      <th>Scan</th>\n",
       "      <th>Asthama</th>\n",
       "      <th>Other diseaes</th>\n",
       "      <th>AGE</th>\n",
       "      <th>Risk</th>\n",
       "    </tr>\n",
       "  </thead>\n",
       "  <tbody>\n",
       "    <tr>\n",
       "      <th>0</th>\n",
       "      <td>Patient-1</td>\n",
       "      <td>T</td>\n",
       "      <td>2.85</td>\n",
       "      <td>2.16</td>\n",
       "      <td>F</td>\n",
       "      <td>F</td>\n",
       "      <td>F</td>\n",
       "      <td>T</td>\n",
       "      <td>T</td>\n",
       "      <td>X-ray</td>\n",
       "      <td>F</td>\n",
       "      <td>F</td>\n",
       "      <td>60</td>\n",
       "      <td>F</td>\n",
       "    </tr>\n",
       "    <tr>\n",
       "      <th>1</th>\n",
       "      <td>Patient-2</td>\n",
       "      <td>F</td>\n",
       "      <td>3.40</td>\n",
       "      <td>1.88</td>\n",
       "      <td>F</td>\n",
       "      <td>F</td>\n",
       "      <td>F</td>\n",
       "      <td>F</td>\n",
       "      <td>F</td>\n",
       "      <td>MRI</td>\n",
       "      <td>T</td>\n",
       "      <td>F</td>\n",
       "      <td>51</td>\n",
       "      <td>F</td>\n",
       "    </tr>\n",
       "  </tbody>\n",
       "</table>\n",
       "</div>"
      ],
      "text/plain": [
       "     Patient smoke   FVC  FEC1 PEFR O2 ABG-P-O2 ABG-P-CO2 ABG-pH Level   Scan  \\\n",
       "0  Patient-1     T  2.85  2.16    F  F        F         T            T  X-ray   \n",
       "1  Patient-2     F  3.40  1.88    F  F        F         F            F    MRI   \n",
       "\n",
       "  Asthama Other diseaes  AGE Risk  \n",
       "0       F             F   60    F  \n",
       "1       T             F   51    F  "
      ]
     },
     "execution_count": 11,
     "metadata": {},
     "output_type": "execute_result"
    }
   ],
   "source": [
    "dataset.head(2)"
   ]
  },
  {
   "cell_type": "code",
   "execution_count": null,
   "metadata": {},
   "outputs": [],
   "source": [
    "# Now we will see that are the maximum patients of Lungs are smokers or not\n",
    "\n",
    "df1 = dataset[dataset[\"Risk\"] == 'T']\n",
    "\n",
    "plt.figure(figsize=(15,8))\n",
    "sns.countplot(df1[\"smoke\"])\n"
   ]
  },
  {
   "cell_type": "code",
   "execution_count": 13,
   "metadata": {},
   "outputs": [
    {
     "data": {
      "text/plain": [
       "<AxesSubplot:title={'center':'Descriptive Stats for FVC'}>"
      ]
     },
     "execution_count": 13,
     "metadata": {},
     "output_type": "execute_result"
    },
    {
     "data": {
      "image/png": "[encoded data removed]",
      "text/plain": [
       "<Figure size 1080x576 with 1 Axes>"
      ]
     },
     "metadata": {
      "needs_background": "light"
     },
     "output_type": "display_data"
    }
   ],
   "source": [
    "# Now we will see what is the Maximum,minimum and average FVC Score of Lung Disease Patients\n",
    "\n",
    "plt.figure(figsize=(15,8))\n",
    "df1 = dataset[dataset[\"Risk\"] == \"T\"]\n",
    "\n",
    "lab = [\"Maximum\",\"Minimum\",\"Average\"]\n",
    "\n",
    "values = [np.max(df1[\"FVC\"]) , np.min(df1[\"FVC\"]) ,np.mean(df1[\"FVC\"])]\n",
    "\n",
    "plt.title(\"Descriptive Stats for FVC\")\n",
    "sns.lineplot(x=lab,y=values)\n"
   ]
  },
  {
   "cell_type": "code",
   "execution_count": 14,
   "metadata": {},
   "outputs": [
    {
     "data": {
      "text/plain": [
       "<AxesSubplot:title={'center':'Descriptive Stats for FEC1'}>"
      ]
     },
     "execution_count": 14,
     "metadata": {},
     "output_type": "execute_result"
    },
    {
     "data": {
      "image/png": "[encoded data removed]",
      "text/plain": [
       "<Figure size 1080x576 with 1 Axes>"
      ]
     },
     "metadata": {
      "needs_background": "light"
     },
     "output_type": "display_data"
    }
   ],
   "source": [
    "# Now we will see what is the Maximum,minimum and average FEC1 Score of Lung Disease Patients\n",
    "\n",
    "plt.figure(figsize=(15,8))\n",
    "df1 = dataset[dataset[\"Risk\"] == \"T\"]\n",
    "\n",
    "lab = [\"Maximum\",\"Minimum\",\"Average\"]\n",
    "\n",
    "values = [np.max(df1[\"FEC1\"]) , np.min(df1[\"FEC1\"]) ,np.mean(df1[\"FEC1\"])]\n",
    "\n",
    "plt.title(\"Descriptive Stats for FEC1\")\n",
    "sns.lineplot(x=lab,y=values)"
   ]
  },
  {
   "cell_type": "code",
   "execution_count": null,
   "metadata": {},
   "outputs": [],
   "source": [
    "# Now Let us see how many patients are asthama patients as well as Lungs Disease patients\n",
    "\n",
    "plt.figure(figsize=(15,8))\n",
    "df1 = dataset[dataset[\"Risk\"] == \"T\"]\n",
    "\n",
    "sns.countplot(df1[\"Asthama\"])"
   ]
  },
  {
   "cell_type": "code",
   "execution_count": null,
   "metadata": {},
   "outputs": [],
   "source": [
    "# Now Let us see how many patients are other disease patients as well as Lungs Disease patients\n",
    "\n",
    "plt.figure(figsize=(15,8))\n",
    "df1 = dataset[dataset[\"Risk\"] == \"T\"]\n",
    "\n",
    "sns.countplot(df1[\"Other diseaes\"])"
   ]
  },
  {
   "cell_type": "markdown",
   "metadata": {},
   "source": [
    "O2: It indicates the oxygen saturation level, which measures the percentage of hemoglobin in the blood that is carrying oxygen. If is less compared to the actual value (F for false) and vice versa\n",
    "\n",
    "ABG-P-O2: It stands for Arterial Blood Gas Partial Pressure of Oxygen, which measures the oxygen level in arterial blood.\n",
    "\n",
    "ABG-P-CO2: It refers to Arterial Blood Gas Partial Pressure of Carbon Dioxide, which measures the carbon dioxide level in arterial blood.\n",
    "\n",
    "ABG-pH Level: It represents the pH level of arterial blood, which indicates its acidity or alkalinity."
   ]
  },
  {
   "cell_type": "code",
   "execution_count": 17,
   "metadata": {},
   "outputs": [
    {
     "data": {
      "text/html": [
       "<div>\n",
       "<style scoped>\n",
       "    .dataframe tbody tr th:only-of-type {\n",
       "        vertical-align: middle;\n",
       "    }\n",
       "\n",
       "    .dataframe tbody tr th {\n",
       "        vertical-align: top;\n",
       "    }\n",
       "\n",
       "    .dataframe thead th {\n",
       "        text-align: right;\n",
       "    }\n",
       "</style>\n",
       "<table border=\"1\" class=\"dataframe\">\n",
       "  <thead>\n",
       "    <tr style=\"text-align: right;\">\n",
       "      <th></th>\n",
       "      <th>Patient</th>\n",
       "      <th>smoke</th>\n",
       "      <th>FVC</th>\n",
       "      <th>FEC1</th>\n",
       "      <th>PEFR</th>\n",
       "      <th>O2</th>\n",
       "      <th>ABG-P-O2</th>\n",
       "      <th>ABG-P-CO2</th>\n",
       "      <th>ABG-pH Level</th>\n",
       "      <th>Scan</th>\n",
       "      <th>Asthama</th>\n",
       "      <th>Other diseaes</th>\n",
       "      <th>AGE</th>\n",
       "      <th>Risk</th>\n",
       "    </tr>\n",
       "  </thead>\n",
       "  <tbody>\n",
       "    <tr>\n",
       "      <th>0</th>\n",
       "      <td>Patient-1</td>\n",
       "      <td>T</td>\n",
       "      <td>2.85</td>\n",
       "      <td>2.16</td>\n",
       "      <td>F</td>\n",
       "      <td>F</td>\n",
       "      <td>F</td>\n",
       "      <td>T</td>\n",
       "      <td>T</td>\n",
       "      <td>X-ray</td>\n",
       "      <td>F</td>\n",
       "      <td>F</td>\n",
       "      <td>60</td>\n",
       "      <td>F</td>\n",
       "    </tr>\n",
       "    <tr>\n",
       "      <th>1</th>\n",
       "      <td>Patient-2</td>\n",
       "      <td>F</td>\n",
       "      <td>3.40</td>\n",
       "      <td>1.88</td>\n",
       "      <td>F</td>\n",
       "      <td>F</td>\n",
       "      <td>F</td>\n",
       "      <td>F</td>\n",
       "      <td>F</td>\n",
       "      <td>MRI</td>\n",
       "      <td>T</td>\n",
       "      <td>F</td>\n",
       "      <td>51</td>\n",
       "      <td>F</td>\n",
       "    </tr>\n",
       "    <tr>\n",
       "      <th>2</th>\n",
       "      <td>Patient-3</td>\n",
       "      <td>F</td>\n",
       "      <td>2.76</td>\n",
       "      <td>2.08</td>\n",
       "      <td>F</td>\n",
       "      <td>F</td>\n",
       "      <td>F</td>\n",
       "      <td>T</td>\n",
       "      <td>F</td>\n",
       "      <td>X-ray</td>\n",
       "      <td>F</td>\n",
       "      <td>F</td>\n",
       "      <td>59</td>\n",
       "      <td>F</td>\n",
       "    </tr>\n",
       "    <tr>\n",
       "      <th>3</th>\n",
       "      <td>Patient-4</td>\n",
       "      <td>F</td>\n",
       "      <td>3.68</td>\n",
       "      <td>3.04</td>\n",
       "      <td>F</td>\n",
       "      <td>F</td>\n",
       "      <td>F</td>\n",
       "      <td>F</td>\n",
       "      <td>F</td>\n",
       "      <td>X-ray</td>\n",
       "      <td>F</td>\n",
       "      <td>F</td>\n",
       "      <td>54</td>\n",
       "      <td>F</td>\n",
       "    </tr>\n",
       "    <tr>\n",
       "      <th>4</th>\n",
       "      <td>Patient-5</td>\n",
       "      <td>F</td>\n",
       "      <td>2.44</td>\n",
       "      <td>0.96</td>\n",
       "      <td>F</td>\n",
       "      <td>T</td>\n",
       "      <td>F</td>\n",
       "      <td>T</td>\n",
       "      <td>T</td>\n",
       "      <td>X-ray</td>\n",
       "      <td>F</td>\n",
       "      <td>F</td>\n",
       "      <td>73</td>\n",
       "      <td>T</td>\n",
       "    </tr>\n",
       "  </tbody>\n",
       "</table>\n",
       "</div>"
      ],
      "text/plain": [
       "     Patient smoke   FVC  FEC1 PEFR O2 ABG-P-O2 ABG-P-CO2 ABG-pH Level   Scan  \\\n",
       "0  Patient-1     T  2.85  2.16    F  F        F         T            T  X-ray   \n",
       "1  Patient-2     F  3.40  1.88    F  F        F         F            F    MRI   \n",
       "2  Patient-3     F  2.76  2.08    F  F        F         T            F  X-ray   \n",
       "3  Patient-4     F  3.68  3.04    F  F        F         F            F  X-ray   \n",
       "4  Patient-5     F  2.44  0.96    F  T        F         T            T  X-ray   \n",
       "\n",
       "  Asthama Other diseaes  AGE Risk  \n",
       "0       F             F   60    F  \n",
       "1       T             F   51    F  \n",
       "2       F             F   59    F  \n",
       "3       F             F   54    F  \n",
       "4       F             F   73    T  "
      ]
     },
     "execution_count": 17,
     "metadata": {},
     "output_type": "execute_result"
    }
   ],
   "source": [
    "dataset.head()"
   ]
  },
  {
   "cell_type": "code",
   "execution_count": null,
   "metadata": {},
   "outputs": [],
   "source": [
    "# let us see what are Number of  ABG-p-o2 of Lungs Disease Patient and not a Lung Disease Patient\n",
    "\n",
    "plt.figure(figsize=(15,8))\n",
    "df1 = dataset[dataset[\"Risk\"] == \"T\"]\n",
    "plt.title(\"Lungs Disease patient\")\n",
    "plt.subplot(1,2,1)\n",
    "\n",
    "sns.countplot(df1[\"ABG-P-O2\"])\n",
    "\n",
    "plt.subplot(1,2,2)\n",
    "df1 = dataset[dataset[\"Risk\"] == \"F\"]\n",
    "plt.title(\"Not Lungs Disease patient\")\n",
    "sns.countplot(df1[\"ABG-P-O2\"])\n",
    "plt.show()"
   ]
  },
  {
   "cell_type": "code",
   "execution_count": null,
   "metadata": {},
   "outputs": [],
   "source": [
    "# let us see what are Number of  ABG-p-co2 of Lungs Disease Patient and not a Lung Disease Patient\n",
    "\n",
    "plt.figure(figsize=(15,8))\n",
    "df1 = dataset[dataset[\"Risk\"] == \"T\"]\n",
    "plt.title(\"Lungs Disease patient\")\n",
    "plt.subplot(1,2,1)\n",
    "\n",
    "sns.countplot(df1[\"ABG-P-CO2\"])\n",
    "\n",
    "plt.subplot(1,2,2)\n",
    "df1 = dataset[dataset[\"Risk\"] == \"F\"]\n",
    "plt.title(\"Not Lungs Disease patient\")\n",
    "sns.countplot(df1[\"ABG-P-CO2\"])\n",
    "plt.show()"
   ]
  },
  {
   "cell_type": "code",
   "execution_count": null,
   "metadata": {},
   "outputs": [],
   "source": [
    "# let us see what are Number of ABG-pH Level of Lungs Disease Patient and not a Lung Disease Patient\n",
    "\n",
    "plt.figure(figsize=(15,8))\n",
    "df1 = dataset[dataset[\"Risk\"] == \"T\"]\n",
    "plt.title(\"Lungs Disease patient\")\n",
    "plt.subplot(1,2,1)\n",
    "\n",
    "sns.countplot(df1[\"ABG-pH Level\"])\n",
    "\n",
    "plt.subplot(1,2,2)\n",
    "df1 = dataset[dataset[\"Risk\"] == \"F\"]\n",
    "plt.title(\"Not Lungs Disease patient\")\n",
    "sns.countplot(df1[\"ABG-pH Level\"])\n",
    "plt.show()"
   ]
  },
  {
   "cell_type": "code",
   "execution_count": 21,
   "metadata": {},
   "outputs": [
    {
     "data": {
      "text/html": [
       "<div>\n",
       "<style scoped>\n",
       "    .dataframe tbody tr th:only-of-type {\n",
       "        vertical-align: middle;\n",
       "    }\n",
       "\n",
       "    .dataframe tbody tr th {\n",
       "        vertical-align: top;\n",
       "    }\n",
       "\n",
       "    .dataframe thead th {\n",
       "        text-align: right;\n",
       "    }\n",
       "</style>\n",
       "<table border=\"1\" class=\"dataframe\">\n",
       "  <thead>\n",
       "    <tr style=\"text-align: right;\">\n",
       "      <th></th>\n",
       "      <th>Patient</th>\n",
       "      <th>smoke</th>\n",
       "      <th>FVC</th>\n",
       "      <th>FEC1</th>\n",
       "      <th>PEFR</th>\n",
       "      <th>O2</th>\n",
       "      <th>ABG-P-O2</th>\n",
       "      <th>ABG-P-CO2</th>\n",
       "      <th>ABG-pH Level</th>\n",
       "      <th>Scan</th>\n",
       "      <th>Asthama</th>\n",
       "      <th>Other diseaes</th>\n",
       "      <th>AGE</th>\n",
       "      <th>Risk</th>\n",
       "    </tr>\n",
       "  </thead>\n",
       "  <tbody>\n",
       "    <tr>\n",
       "      <th>0</th>\n",
       "      <td>Patient-1</td>\n",
       "      <td>T</td>\n",
       "      <td>2.85</td>\n",
       "      <td>2.16</td>\n",
       "      <td>F</td>\n",
       "      <td>F</td>\n",
       "      <td>F</td>\n",
       "      <td>T</td>\n",
       "      <td>T</td>\n",
       "      <td>X-ray</td>\n",
       "      <td>F</td>\n",
       "      <td>F</td>\n",
       "      <td>60</td>\n",
       "      <td>F</td>\n",
       "    </tr>\n",
       "    <tr>\n",
       "      <th>1</th>\n",
       "      <td>Patient-2</td>\n",
       "      <td>F</td>\n",
       "      <td>3.40</td>\n",
       "      <td>1.88</td>\n",
       "      <td>F</td>\n",
       "      <td>F</td>\n",
       "      <td>F</td>\n",
       "      <td>F</td>\n",
       "      <td>F</td>\n",
       "      <td>MRI</td>\n",
       "      <td>T</td>\n",
       "      <td>F</td>\n",
       "      <td>51</td>\n",
       "      <td>F</td>\n",
       "    </tr>\n",
       "    <tr>\n",
       "      <th>2</th>\n",
       "      <td>Patient-3</td>\n",
       "      <td>F</td>\n",
       "      <td>2.76</td>\n",
       "      <td>2.08</td>\n",
       "      <td>F</td>\n",
       "      <td>F</td>\n",
       "      <td>F</td>\n",
       "      <td>T</td>\n",
       "      <td>F</td>\n",
       "      <td>X-ray</td>\n",
       "      <td>F</td>\n",
       "      <td>F</td>\n",
       "      <td>59</td>\n",
       "      <td>F</td>\n",
       "    </tr>\n",
       "    <tr>\n",
       "      <th>3</th>\n",
       "      <td>Patient-4</td>\n",
       "      <td>F</td>\n",
       "      <td>3.68</td>\n",
       "      <td>3.04</td>\n",
       "      <td>F</td>\n",
       "      <td>F</td>\n",
       "      <td>F</td>\n",
       "      <td>F</td>\n",
       "      <td>F</td>\n",
       "      <td>X-ray</td>\n",
       "      <td>F</td>\n",
       "      <td>F</td>\n",
       "      <td>54</td>\n",
       "      <td>F</td>\n",
       "    </tr>\n",
       "    <tr>\n",
       "      <th>4</th>\n",
       "      <td>Patient-5</td>\n",
       "      <td>F</td>\n",
       "      <td>2.44</td>\n",
       "      <td>0.96</td>\n",
       "      <td>F</td>\n",
       "      <td>T</td>\n",
       "      <td>F</td>\n",
       "      <td>T</td>\n",
       "      <td>T</td>\n",
       "      <td>X-ray</td>\n",
       "      <td>F</td>\n",
       "      <td>F</td>\n",
       "      <td>73</td>\n",
       "      <td>T</td>\n",
       "    </tr>\n",
       "  </tbody>\n",
       "</table>\n",
       "</div>"
      ],
      "text/plain": [
       "     Patient smoke   FVC  FEC1 PEFR O2 ABG-P-O2 ABG-P-CO2 ABG-pH Level   Scan  \\\n",
       "0  Patient-1     T  2.85  2.16    F  F        F         T            T  X-ray   \n",
       "1  Patient-2     F  3.40  1.88    F  F        F         F            F    MRI   \n",
       "2  Patient-3     F  2.76  2.08    F  F        F         T            F  X-ray   \n",
       "3  Patient-4     F  3.68  3.04    F  F        F         F            F  X-ray   \n",
       "4  Patient-5     F  2.44  0.96    F  T        F         T            T  X-ray   \n",
       "\n",
       "  Asthama Other diseaes  AGE Risk  \n",
       "0       F             F   60    F  \n",
       "1       T             F   51    F  \n",
       "2       F             F   59    F  \n",
       "3       F             F   54    F  \n",
       "4       F             F   73    T  "
      ]
     },
     "execution_count": 21,
     "metadata": {},
     "output_type": "execute_result"
    }
   ],
   "source": [
    "dataset.head()"
   ]
  },
  {
   "cell_type": "markdown",
   "metadata": {},
   "source": [
    "Predictig Lung Disease Risk Suing KNN Classification Model"
   ]
  },
  {
   "cell_type": "code",
   "execution_count": 28,
   "metadata": {},
   "outputs": [],
   "source": [
    "from sklearn.neighbors import KNeighborsClassifier\n",
    "from sklearn.preprocessing import LabelEncoder\n",
    "from sklearn.model_selection import train_test_split\n",
    "from sklearn.metrics import accuracy_score,confusion_matrix"
   ]
  },
  {
   "cell_type": "code",
   "execution_count": 26,
   "metadata": {},
   "outputs": [],
   "source": [
    "lab_en = LabelEncoder()\n",
    "\n",
    "#dataset.drop(columns=[\"Patient\"],inplace=True)\n",
    "\n",
    "dataset.iloc[:,-1] = lab_en.fit_transform(dataset.iloc[:,-1])\n",
    "dataset.iloc[:,-3] =lab_en.fit_transform(dataset.iloc[:,-3])\n",
    "dataset.iloc[:,-4] =lab_en.fit_transform(dataset.iloc[:,-4])\n",
    "dataset.iloc[:,-5] =lab_en.fit_transform(dataset.iloc[:,-5])\n",
    "dataset.iloc[:,-6] =lab_en.fit_transform(dataset.iloc[:,-6])\n",
    "\n",
    "dataset.iloc[:,-7] =lab_en.fit_transform(dataset.iloc[:,-7])\n",
    "dataset.iloc[:,-8] =lab_en.fit_transform(dataset.iloc[:,-8])\n",
    "dataset.iloc[:,-9] =lab_en.fit_transform(dataset.iloc[:,-9])\n",
    "dataset.iloc[:,-10] =lab_en.fit_transform(dataset.iloc[:,-10])\n",
    "dataset.iloc[:,-13] =lab_en.fit_transform(dataset.iloc[:,-13])\n"
   ]
  },
  {
   "cell_type": "code",
   "execution_count": 27,
   "metadata": {},
   "outputs": [],
   "source": [
    "x = dataset.drop(columns=[\"Risk\"])\n",
    "y = dataset.Risk\n",
    "\n",
    "x_train,x_test,y_train,y_test = train_test_split(x,y)\n"
   ]
  },
  {
   "cell_type": "code",
   "execution_count": 29,
   "metadata": {},
   "outputs": [
    {
     "data": {
      "text/html": [
       "<style>#sk-container-id-1 {color: black;background-color: white;}#sk-container-id-1 pre{padding: 0;}#sk-container-id-1 div.sk-toggleable {background-color: white;}#sk-container-id-1 label.sk-toggleable__label {cursor: pointer;display: block;width: 100%;margin-bottom: 0;padding: 0.3em;box-sizing: border-box;text-align: center;}#sk-container-id-1 label.sk-toggleable__label-arrow:before {content: \"▸\";float: left;margin-right: 0.25em;color: #696969;}#sk-container-id-1 label.sk-toggleable__label-arrow:hover:before {color: black;}#sk-container-id-1 div.sk-estimator:hover label.sk-toggleable__label-arrow:before {color: black;}#sk-container-id-1 div.sk-toggleable__content {max-height: 0;max-width: 0;overflow: hidden;text-align: left;background-color: #f0f8ff;}#sk-container-id-1 div.sk-toggleable__content pre {margin: 0.2em;color: black;border-radius: 0.25em;background-color: #f0f8ff;}#sk-container-id-1 input.sk-toggleable__control:checked~div.sk-toggleable__content {max-height: 200px;max-width: 100%;overflow: auto;}#sk-container-id-1 input.sk-toggleable__control:checked~label.sk-toggleable__label-arrow:before {content: \"▾\";}#sk-container-id-1 div.sk-estimator input.sk-toggleable__control:checked~label.sk-toggleable__label {background-color: #d4ebff;}#sk-container-id-1 div.sk-label input.sk-toggleable__control:checked~label.sk-toggleable__label {background-color: #d4ebff;}#sk-container-id-1 input.sk-hidden--visually {border: 0;clip: rect(1px 1px 1px 1px);clip: rect(1px, 1px, 1px, 1px);height: 1px;margin: -1px;overflow: hidden;padding: 0;position: absolute;width: 1px;}#sk-container-id-1 div.sk-estimator {font-family: monospace;background-color: #f0f8ff;border: 1px dotted black;border-radius: 0.25em;box-sizing: border-box;margin-bottom: 0.5em;}#sk-container-id-1 div.sk-estimator:hover {background-color: #d4ebff;}#sk-container-id-1 div.sk-parallel-item::after {content: \"\";width: 100%;border-bottom: 1px solid gray;flex-grow: 1;}#sk-container-id-1 div.sk-label:hover label.sk-toggleable__label {background-color: #d4ebff;}#sk-container-id-1 div.sk-serial::before {content: \"\";position: absolute;border-left: 1px solid gray;box-sizing: border-box;top: 0;bottom: 0;left: 50%;z-index: 0;}#sk-container-id-1 div.sk-serial {display: flex;flex-direction: column;align-items: center;background-color: white;padding-right: 0.2em;padding-left: 0.2em;position: relative;}#sk-container-id-1 div.sk-item {position: relative;z-index: 1;}#sk-container-id-1 div.sk-parallel {display: flex;align-items: stretch;justify-content: center;background-color: white;position: relative;}#sk-container-id-1 div.sk-item::before, #sk-container-id-1 div.sk-parallel-item::before {content: \"\";position: absolute;border-left: 1px solid gray;box-sizing: border-box;top: 0;bottom: 0;left: 50%;z-index: -1;}#sk-container-id-1 div.sk-parallel-item {display: flex;flex-direction: column;z-index: 1;position: relative;background-color: white;}#sk-container-id-1 div.sk-parallel-item:first-child::after {align-self: flex-end;width: 50%;}#sk-container-id-1 div.sk-parallel-item:last-child::after {align-self: flex-start;width: 50%;}#sk-container-id-1 div.sk-parallel-item:only-child::after {width: 0;}#sk-container-id-1 div.sk-dashed-wrapped {border: 1px dashed gray;margin: 0 0.4em 0.5em 0.4em;box-sizing: border-box;padding-bottom: 0.4em;background-color: white;}#sk-container-id-1 div.sk-label label {font-family: monospace;font-weight: bold;display: inline-block;line-height: 1.2em;}#sk-container-id-1 div.sk-label-container {text-align: center;}#sk-container-id-1 div.sk-container {/* jupyter's `normalize.less` sets `[hidden] { display: none; }` but bootstrap.min.css set `[hidden] { display: none !important; }` so we also need the `!important` here to be able to override the default hidden behavior on the sphinx rendered scikit-learn.org. See: https://github.com/scikit-learn/scikit-learn/issues/21755 */display: inline-block !important;position: relative;}#sk-container-id-1 div.sk-text-repr-fallback {display: none;}</style><div id=\"sk-container-id-1\" class=\"sk-top-container\"><div class=\"sk-text-repr-fallback\"><pre>KNeighborsClassifier()</pre><b>In a Jupyter environment, please rerun this cell to show the HTML representation or trust the notebook. <br />On GitHub, the HTML representation is unable to render, please try loading this page with nbviewer.org.</b></div><div class=\"sk-container\" hidden><div class=\"sk-item\"><div class=\"sk-estimator sk-toggleable\"><input class=\"sk-toggleable__control sk-hidden--visually\" id=\"sk-estimator-id-1\" type=\"checkbox\" checked><label for=\"sk-estimator-id-1\" class=\"sk-toggleable__label sk-toggleable__label-arrow\">KNeighborsClassifier</label><div class=\"sk-toggleable__content\"><pre>KNeighborsClassifier()</pre></div></div></div></div></div>"
      ],
      "text/plain": [
       "KNeighborsClassifier()"
      ]
     },
     "execution_count": 29,
     "metadata": {},
     "output_type": "execute_result"
    }
   ],
   "source": [
    "model = KNeighborsClassifier()\n",
    "\n",
    "model.fit(x_train,y_train)"
   ]
  },
  {
   "cell_type": "code",
   "execution_count": 33,
   "metadata": {},
   "outputs": [
    {
     "data": {
      "text/plain": [
       "<AxesSubplot:>"
      ]
     },
     "execution_count": 33,
     "metadata": {},
     "output_type": "execute_result"
    },
    {
     "data": {
      "image/png": "[encoded data removed]",
      "text/plain": [
       "<Figure size 1008x504 with 2 Axes>"
      ]
     },
     "metadata": {
      "needs_background": "light"
     },
     "output_type": "display_data"
    }
   ],
   "source": [
    "pred = model.predict(x_test)\n",
    "\n",
    "plt.figure(figsize=(14,7))\n",
    "sns.heatmap(confusion_matrix(y_test,pred),annot=True)"
   ]
  },
  {
   "cell_type": "code",
   "execution_count": 35,
   "metadata": {},
   "outputs": [
    {
     "name": "stdout",
     "output_type": "stream",
     "text": [
      "Accuracy = 80.51 %\n"
     ]
    }
   ],
   "source": [
    "# Accuracy of Model: \n",
    "\n",
    "print(\"Accuracy = %.2f\"%(accuracy_score(y_test,pred)*100),\"%\")"
   ]
  }
 ],
 "metadata": {
  "kernelspec": {
   "display_name": "base",
   "language": "python",
   "name": "python3"
  },
  "language_info": {
   "codemirror_mode": {
    "name": "ipython",
    "version": 3
   },
   "file_extension": ".py",
   "mimetype": "text/x-python",
   "name": "python",
   "nbconvert_exporter": "python",
   "pygments_lexer": "ipython3",
   "version": "3.9.12"
  }
 },
 "nbformat": 4,
 "nbformat_minor": 2
}
